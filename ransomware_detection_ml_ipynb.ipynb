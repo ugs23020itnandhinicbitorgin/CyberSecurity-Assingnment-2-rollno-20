{
  "nbformat": 4,
  "nbformat_minor": 0,
  "metadata": {
    "colab": {
      "provenance": []
    },
    "kernelspec": {
      "name": "python3",
      "display_name": "Python 3"
    },
    "language_info": {
      "name": "python"
    }
  },
  "cells": [
    {
      "cell_type": "code",
      "execution_count": 1,
      "metadata": {
        "id": "S6LTkTKXn2yK"
      },
      "outputs": [],
      "source": [
        "\n",
        "import pandas as pd\n",
        "import numpy as np\n",
        "import matplotlib.pyplot as plt\n",
        "import seaborn as sns\n",
        "from sklearn.model_selection import train_test_split\n",
        "from sklearn.preprocessing import StandardScaler\n",
        "from sklearn.ensemble import RandomForestClassifier\n",
        "from sklearn.metrics import accuracy_score, confusion_matrix, classification_report\n",
        "from imblearn.over_sampling import SMOTE\n",
        "import tensorflow as tf\n",
        "from tensorflow import keras\n"
      ]
    },
    {
      "cell_type": "code",
      "source": [
        "\n",
        "np.random.seed(42)\n",
        "data_size = 1000\n",
        "df = pd.DataFrame({\n",
        "    'file_size': np.random.randint(200, 50000, data_size),\n",
        "    'entropy': np.random.uniform(2, 8, data_size),\n",
        "    'api_calls': np.random.randint(10, 300, data_size),\n",
        "    'registry_modifications': np.random.randint(0, 50, data_size),\n",
        "    'label': np.random.choice([0, 1], data_size, p=[0.6, 0.4])\n",
        "})\n",
        "\n",
        "print(\"Sample Data:\")\n",
        "print(df.head())\n"
      ],
      "metadata": {
        "colab": {
          "base_uri": "https://localhost:8080/"
        },
        "id": "SmmalB5xoIUw",
        "outputId": "a541e955-0f3b-4cbc-e84b-3416e5d74fcd"
      },
      "execution_count": 2,
      "outputs": [
        {
          "output_type": "stream",
          "name": "stdout",
          "text": [
            "Sample Data:\n",
            "   file_size   entropy  api_calls  registry_modifications  label\n",
            "0      15995  3.466119        163                      22      0\n",
            "1       1060  4.989486        205                       8      0\n",
            "2      38358  3.982091        271                      33      0\n",
            "3      44932  7.602151        152                      45      0\n",
            "4      11484  2.045206        110                      13      0\n"
          ]
        }
      ]
    },
    {
      "cell_type": "code",
      "source": [
        "\n",
        "\n",
        "X = df.drop('label', axis=1)\n",
        "y = df['label']\n",
        "\n",
        "sm = SMOTE(random_state=42)\n",
        "X_res, y_res = sm.fit_resample(X, y)\n",
        "\n",
        "X_train, X_test, y_train, y_test = train_test_split(X_res, y_res, test_size=0.2, random_state=42)\n",
        "\n",
        "scaler = StandardScaler()\n",
        "X_train_scaled = scaler.fit_transform(X_train)\n",
        "X_test_scaled = scaler.transform(X_test)\n"
      ],
      "metadata": {
        "id": "cQPW6pUwoKlI"
      },
      "execution_count": 3,
      "outputs": []
    },
    {
      "cell_type": "code",
      "source": [
        "\n",
        "# SECTION 4: Random Forest Model\n",
        "rf = RandomForestClassifier(n_estimators=100, random_state=42)\n",
        "rf.fit(X_train_scaled, y_train)\n",
        "y_pred_rf = rf.predict(X_test_scaled)\n",
        "print(\"\\nRandom Forest Accuracy:\", accuracy_score(y_test, y_pred_rf))\n"
      ],
      "metadata": {
        "colab": {
          "base_uri": "https://localhost:8080/"
        },
        "id": "fhcQN_TXoQr8",
        "outputId": "796ab568-97eb-4180-a01b-48b73b427b03"
      },
      "execution_count": 4,
      "outputs": [
        {
          "output_type": "stream",
          "name": "stdout",
          "text": [
            "\n",
            "Random Forest Accuracy: 0.5409836065573771\n"
          ]
        }
      ]
    },
    {
      "cell_type": "code",
      "source": [
        "\n",
        "# SECTION 5: Deep Neural Network (DNN)\n",
        "model = keras.Sequential([\n",
        "    keras.layers.Dense(16, input_dim=X_train_scaled.shape[1], activation='relu'),\n",
        "    keras.layers.Dense(8, activation='relu'),\n",
        "    keras.layers.Dense(1, activation='sigmoid')\n",
        "])\n",
        "\n",
        "model.compile(optimizer='adam', loss='binary_crossentropy', metrics=['accuracy'])\n",
        "model.fit(X_train_scaled, y_train, epochs=10, batch_size=16, verbose=1)\n",
        "loss, acc = model.evaluate(X_test_scaled, y_test, verbose=0)\n",
        "print(\"DNN Accuracy:\", acc)\n"
      ],
      "metadata": {
        "colab": {
          "base_uri": "https://localhost:8080/"
        },
        "id": "JYXp7HEroXX8",
        "outputId": "eb187447-738a-4960-92f6-0bd83b0e191c"
      },
      "execution_count": 5,
      "outputs": [
        {
          "output_type": "stream",
          "name": "stdout",
          "text": [
            "Epoch 1/10\n"
          ]
        },
        {
          "output_type": "stream",
          "name": "stderr",
          "text": [
            "/usr/local/lib/python3.12/dist-packages/keras/src/layers/core/dense.py:93: UserWarning: Do not pass an `input_shape`/`input_dim` argument to a layer. When using Sequential models, prefer using an `Input(shape)` object as the first layer in the model instead.\n",
            "  super().__init__(activity_regularizer=activity_regularizer, **kwargs)\n"
          ]
        },
        {
          "output_type": "stream",
          "name": "stdout",
          "text": [
            "\u001b[1m61/61\u001b[0m \u001b[32m━━━━━━━━━━━━━━━━━━━━\u001b[0m\u001b[37m\u001b[0m \u001b[1m1s\u001b[0m 2ms/step - accuracy: 0.4825 - loss: 0.7027\n",
            "Epoch 2/10\n",
            "\u001b[1m61/61\u001b[0m \u001b[32m━━━━━━━━━━━━━━━━━━━━\u001b[0m\u001b[37m\u001b[0m \u001b[1m0s\u001b[0m 2ms/step - accuracy: 0.5229 - loss: 0.6946\n",
            "Epoch 3/10\n",
            "\u001b[1m61/61\u001b[0m \u001b[32m━━━━━━━━━━━━━━━━━━━━\u001b[0m\u001b[37m\u001b[0m \u001b[1m0s\u001b[0m 2ms/step - accuracy: 0.5194 - loss: 0.6990\n",
            "Epoch 4/10\n",
            "\u001b[1m61/61\u001b[0m \u001b[32m━━━━━━━━━━━━━━━━━━━━\u001b[0m\u001b[37m\u001b[0m \u001b[1m0s\u001b[0m 2ms/step - accuracy: 0.5567 - loss: 0.6871\n",
            "Epoch 5/10\n",
            "\u001b[1m61/61\u001b[0m \u001b[32m━━━━━━━━━━━━━━━━━━━━\u001b[0m\u001b[37m\u001b[0m \u001b[1m0s\u001b[0m 2ms/step - accuracy: 0.5429 - loss: 0.6912\n",
            "Epoch 6/10\n",
            "\u001b[1m61/61\u001b[0m \u001b[32m━━━━━━━━━━━━━━━━━━━━\u001b[0m\u001b[37m\u001b[0m \u001b[1m0s\u001b[0m 2ms/step - accuracy: 0.5179 - loss: 0.6921\n",
            "Epoch 7/10\n",
            "\u001b[1m61/61\u001b[0m \u001b[32m━━━━━━━━━━━━━━━━━━━━\u001b[0m\u001b[37m\u001b[0m \u001b[1m0s\u001b[0m 2ms/step - accuracy: 0.5746 - loss: 0.6835\n",
            "Epoch 8/10\n",
            "\u001b[1m61/61\u001b[0m \u001b[32m━━━━━━━━━━━━━━━━━━━━\u001b[0m\u001b[37m\u001b[0m \u001b[1m0s\u001b[0m 2ms/step - accuracy: 0.5392 - loss: 0.6895\n",
            "Epoch 9/10\n",
            "\u001b[1m61/61\u001b[0m \u001b[32m━━━━━━━━━━━━━━━━━━━━\u001b[0m\u001b[37m\u001b[0m \u001b[1m0s\u001b[0m 3ms/step - accuracy: 0.5256 - loss: 0.6942\n",
            "Epoch 10/10\n",
            "\u001b[1m61/61\u001b[0m \u001b[32m━━━━━━━━━━━━━━━━━━━━\u001b[0m\u001b[37m\u001b[0m \u001b[1m0s\u001b[0m 3ms/step - accuracy: 0.5449 - loss: 0.6905\n",
            "DNN Accuracy: 0.4959016442298889\n"
          ]
        }
      ]
    },
    {
      "cell_type": "code",
      "source": [
        "\n",
        "# SECTION 6: Ensemble Prediction\n",
        "pred_rf_prob = rf.predict_proba(X_test_scaled)[:, 1]\n",
        "pred_dnn_prob = model.predict(X_test_scaled).flatten()\n",
        "ensemble_prob = (pred_rf_prob + pred_dnn_prob) / 2\n",
        "ensemble_pred = (ensemble_prob > 0.5).astype(int)\n",
        "\n",
        "acc_ensemble = accuracy_score(y_test, ensemble_pred)\n",
        "print(\"\\nFinal Ensemble Accuracy:\", round(acc_ensemble * 100, 2), \"%\")\n",
        "print(\"\\nClassification Report:\\n\", classification_report(y_test, ensemble_pred))\n"
      ],
      "metadata": {
        "colab": {
          "base_uri": "https://localhost:8080/"
        },
        "id": "Vn4Wn5j0ockL",
        "outputId": "e9dbf6a2-feb1-43bb-b8d5-d26616df2b60"
      },
      "execution_count": 6,
      "outputs": [
        {
          "output_type": "stream",
          "name": "stdout",
          "text": [
            "\u001b[1m8/8\u001b[0m \u001b[32m━━━━━━━━━━━━━━━━━━━━\u001b[0m\u001b[37m\u001b[0m \u001b[1m0s\u001b[0m 14ms/step\n",
            "\n",
            "Final Ensemble Accuracy: 54.92 %\n",
            "\n",
            "Classification Report:\n",
            "               precision    recall  f1-score   support\n",
            "\n",
            "           0       0.58      0.48      0.52       126\n",
            "           1       0.53      0.63      0.57       118\n",
            "\n",
            "    accuracy                           0.55       244\n",
            "   macro avg       0.55      0.55      0.55       244\n",
            "weighted avg       0.55      0.55      0.55       244\n",
            "\n"
          ]
        }
      ]
    },
    {
      "cell_type": "code",
      "source": [
        "\n",
        "# SECTION 7: Confusion Matrix Visualization\n",
        "\n",
        "cm = confusion_matrix(y_test, ensemble_pred)\n",
        "sns.heatmap(cm, annot=True, fmt='d', cmap='Greens',\n",
        "            xticklabels=['Benign', 'Ransomware'],\n",
        "            yticklabels=['Benign', 'Ransomware'])\n",
        "plt.title(\"Confusion Matrix - Ensemble Model\")\n",
        "plt.xlabel(\"Predicted\")\n",
        "plt.ylabel(\"Actual\")\n",
        "plt.show()\n"
      ],
      "metadata": {
        "colab": {
          "base_uri": "https://localhost:8080/",
          "height": 472
        },
        "id": "KxpDuF7KohG-",
        "outputId": "6dbf25f0-19f3-430a-fd34-f7f51fe485aa"
      },
      "execution_count": 7,
      "outputs": [
        {
          "output_type": "display_data",
          "data": {
            "text/plain": [
              "<Figure size 640x480 with 2 Axes>"
            ],
            "image/png": "[encoded data removed]"
          },
          "metadata": {}
        }
      ]
    },
    {
      "cell_type": "code",
      "source": [
        "\n",
        "# SECTION 8: Save Results\n",
        "\n",
        "import os\n",
        "os.makedirs('results', exist_ok=True)\n",
        "\n",
        "results = pd.DataFrame({\n",
        "    'Actual': y_test,\n",
        "    'Predicted': ensemble_pred,\n",
        "    'Probability': ensemble_prob\n",
        "})\n",
        "results.to_csv('results/ensemble_results.csv', index=False)\n",
        "print(\"\\nResults saved to results/ensemble_results.csv\")\n",
        "\n"
      ],
      "metadata": {
        "colab": {
          "base_uri": "https://localhost:8080/"
        },
        "id": "fnTSngR_olFz",
        "outputId": "a55ca36c-c009-4e19-eca9-612d034c6b39"
      },
      "execution_count": 10,
      "outputs": [
        {
          "output_type": "stream",
          "name": "stdout",
          "text": [
            "\n",
            "Results saved to results/ensemble_results.csv\n"
          ]
        }
      ]
    }
  ]
}